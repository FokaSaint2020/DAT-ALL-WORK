{
 "cells": [
  {
   "cell_type": "code",
   "execution_count": 11,
   "metadata": {},
   "outputs": [],
   "source": [
    "# picture = [\n",
    "#   [0,0,0,1,0,0,0],\n",
    "#   [0,0,1,1,1,0,0],\n",
    "#   [0,1,1,1,1,1,0],\n",
    "#   [1,1,1,1,1,1,1],\n",
    "#   [0,0,0,1,0,0,0],\n",
    "#   [0,0,0,1,0,0,0]\n",
    "# ]\n",
    "\n",
    "# for row in picture:\n",
    "#     for pixel in row:\n",
    "#         if (pixel == 1):\n",
    "#             print('*', end='')\n",
    "#             else:\n",
    "#                 (' ', end='')\n",
    "#     print('')"
   ]
  },
  {
   "cell_type": "code",
   "execution_count": 12,
   "metadata": {},
   "outputs": [],
   "source": [
    "# picture = [\n",
    "#   [0,0,0,1,0,0,0],\n",
    "#   [0,0,1,1,1,0,0],\n",
    "#   [0,1,1,1,1,1,0],\n",
    "#   [1,1,1,1,1,1,1],\n",
    "#   [0,0,0,1,0,0,0],\n",
    "#   [0,0,0,1,0,0,0]\n",
    "# ]\n",
    "\n",
    "# for row in picture:\n",
    "#   for pixel in row:\n",
    "#      if (pixel == 1):\n",
    "#             print('*', end='')\n",
    "#         else:\n",
    "#             (' ', end='')\n",
    "#     print('')"
   ]
  },
  {
   "cell_type": "code",
   "execution_count": 2,
   "metadata": {},
   "outputs": [
    {
     "name": "stdout",
     "output_type": "stream",
     "text": [
      "   #   \n",
      "  ###  \n",
      " ##### \n",
      "#######\n",
      "   #   \n",
      "   #   \n"
     ]
    }
   ],
   "source": [
    "picture = [\n",
    "  [0,0,0,1,0,0,0],\n",
    "  [0,0,1,1,1,0,0],\n",
    "  [0,1,1,1,1,1,0],\n",
    "  [1,1,1,1,1,1,1],\n",
    "  [0,0,0,1,0,0,0],\n",
    "  [0,0,0,1,0,0,0]\n",
    "]\n",
    "\n",
    "\n",
    "\n",
    "def show_icon():\n",
    "    for image in picture:\n",
    "      for pixel in image:\n",
    "        if (pixel):\n",
    "          print('#', end =\"\")\n",
    "        else:\n",
    "          print(' ', end =\"\")\n",
    "      print('')\n",
    "\n",
    "show_icon()\n",
    " \n",
    "        "
   ]
  },
  {
   "cell_type": "code",
   "execution_count": 3,
   "metadata": {},
   "outputs": [],
   "source": [
    "def four_bit_bin_list():\n",
    "    bin_list = []\n",
    "    for i in range(4):\n",
    "        for j in range(4):\n",
    "            for k in range(4):\n",
    "                for l in range(2):\n",
    "                    bin_list.append([i,j,k,l])\n",
    "    return bin_list\n",
    "\n",
    "# for decimal, list in enumerate(four_bit_bin_list()):\n",
    "#     print(f'{decimal}:{list}')"
   ]
  },
  {
   "cell_type": "code",
   "execution_count": 21,
   "metadata": {},
   "outputs": [
    {
     "name": "stdout",
     "output_type": "stream",
     "text": [
      "\n",
      "\r\n",
      "|\n",
      "\r\n",
      "||\n",
      "\r\n",
      "|||\n",
      "\r\n",
      "||||\n",
      "\r\n",
      "|||||\n",
      "\r\n",
      "||||||\n",
      "\r\n",
      "|||||||\n",
      "\r\n",
      "||||||||\n",
      "\r\n",
      "|||||||||\n",
      "\r\n",
      "||||||||||\n",
      "\r\n",
      "|||||||||||\n",
      "\r\n",
      "||||||||||||\n",
      "\r\n",
      "|||||||||||||\n",
      "\r\n",
      "||||||||||||||\n",
      "\r\n",
      "|||||||||||||||\n",
      "\r\n"
     ]
    }
   ],
   "source": [
    "for index, list in enumerate(four_bit_bin_list()):\n",
    "    print(f'{\"|\" * index}')\n",
    "    print('\\r')"
   ]
  },
  {
   "cell_type": "code",
   "execution_count": 8,
   "metadata": {},
   "outputs": [
    {
     "name": "stdout",
     "output_type": "stream",
     "text": [
      "   #   \n",
      "  ###  \n",
      " ##### \n",
      "#######\n",
      "   #   \n",
      "   #   \n"
     ]
    }
   ],
   "source": [
    "# 100101001001010010010100101001001010010100100101001001010010100100101001001\n",
    "\n",
    "picture = [\n",
    "#   [0,0,0,1,0,0,0],\n",
    "#   [0,0,1,1,1,0,0],\n",
    "#   [0,1,1,1,1,1,0],\n",
    "#   [1,1,1,1,1,1,1],\n",
    "#   [0,0,0,1,0,0,0],\n",
    "#   [0,0,0,1,0,0,0]\n",
    "[1,0,0,1,0,1,0],\n",
    "[0,1,0,0,1,0,1],\n",
    "]\n",
    "\n",
    "\n",
    "\n",
    "\n",
    "def show_icon():\n",
    "    for image in picture:\n",
    "      for pixel in image:\n",
    "        if (pixel):\n",
    "          print('#', end =\"\")\n",
    "        else:\n",
    "          print(' ', end =\"\")\n",
    "      print('')\n",
    "\n",
    "show_icon()\n",
    " "
   ]
  },
  {
   "cell_type": "code",
   "execution_count": null,
   "metadata": {},
   "outputs": [],
   "source": []
  }
 ],
 "metadata": {
  "kernelspec": {
   "display_name": "Python 3",
   "language": "python",
   "name": "python3"
  },
  "language_info": {
   "codemirror_mode": {
    "name": "ipython",
    "version": 3
   },
   "file_extension": ".py",
   "mimetype": "text/x-python",
   "name": "python",
   "nbconvert_exporter": "python",
   "pygments_lexer": "ipython3",
   "version": "3.7.4"
  }
 },
 "nbformat": 4,
 "nbformat_minor": 2
}
