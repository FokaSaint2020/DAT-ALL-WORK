{
 "cells": [
  {
   "cell_type": "code",
   "execution_count": null,
   "metadata": {},
   "outputs": [
    {
     "name": "stdout",
     "output_type": "stream",
     "text": [
      "Welcome to the Inverted Rigth Triangle \n",
      "*************\n"
     ]
    }
   ],
   "source": [
    "print(\"Welcome to the Inverted Rigth Triangle \")\n",
    "\n",
    "print('*************')\n",
    "row_input = int(input('Enter The Number of rows: '))\n",
    "\n",
    "def display_integer_pattern():\n",
    "#Nested Loop!\n",
    "    for i in range (row_input):\n",
    "        for j in range (row_input-i):\n",
    "            print(j + 0, end=\"\")\n",
    "        print()\n",
    "# Calling the Function\n",
    "display_integer_pattern()"
   ]
  },
  {
   "cell_type": "code",
   "execution_count": 2,
   "metadata": {},
   "outputs": [
    {
     "data": {
      "text/plain": [
       "9"
      ]
     },
     "execution_count": 2,
     "metadata": {},
     "output_type": "execute_result"
    }
   ],
   "source": [
    "9"
   ]
  },
  {
   "cell_type": "code",
   "execution_count": null,
   "metadata": {},
   "outputs": [],
   "source": []
  }
 ],
 "metadata": {
  "kernelspec": {
   "display_name": "Python 3",
   "language": "python",
   "name": "python3"
  },
  "language_info": {
   "codemirror_mode": {
    "name": "ipython",
    "version": 3
   },
   "file_extension": ".py",
   "mimetype": "text/x-python",
   "name": "python",
   "nbconvert_exporter": "python",
   "pygments_lexer": "ipython3",
   "version": "3.7.4"
  }
 },
 "nbformat": 4,
 "nbformat_minor": 2
}
