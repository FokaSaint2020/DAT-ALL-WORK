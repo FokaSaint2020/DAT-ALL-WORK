{
 "cells": [
  {
   "cell_type": "code",
   "execution_count": 2,
   "metadata": {},
   "outputs": [],
   "source": [
    "# import json\n",
    "\n",
    "# projects_json = {}\n",
    "\n",
    "# with open (\"capitalprojects.geojson\", \"r\") as projects:\n",
    "#     projects_json = json.load(projects)\n",
    "\n",
    "\n",
    "# #the below finds and prints the ID numbers of the projects with no area name\n",
    "# features = projects_json['features']#list     \n",
    "# for entry in features:\n",
    "#     properties = entry['properties']#dict\n",
    "        \n",
    "#     for x, y in properties.items():\n",
    "#         if x == 'id':\n",
    "#             id_number = str(y)\n",
    "#             #print(id_number) \n",
    "             \n",
    "#     for key, value in properties.items():\n",
    "#         if key == 'area':\n",
    "#             blank_values = []\n",
    "#             if value == \"\": #check if keys are blank, add to a list?\n",
    "#                 blank_values.append(id_number)\n",
    "#                 print(\"This project is missing a value for 'area':\", blank_values)\n",
    "#         else:\n",
    "#             continue"
   ]
  },
  {
   "cell_type": "code",
   "execution_count": 3,
   "metadata": {},
   "outputs": [],
   "source": [
    "import json\n",
    "from pprint import pprint"
   ]
  },
  {
   "cell_type": "code",
   "execution_count": 9,
   "metadata": {},
   "outputs": [
    {
     "name": "stdout",
     "output_type": "stream",
     "text": [
      "dict_keys(['features', 'crs', 'name', 'type'])\n",
      "~~~~~~~~~~~~~~~~~~~~~~~~~~~~~~~~~~~~~~~~~~~~~~~~~~~~~~~~~~~~~~~~~~~~~~~~~~~~~~~~~~~~~~~~\n"
     ]
    }
   ],
   "source": [
    "\n",
    "#mport pandas as pd\n",
    "with open(\"cgcapitalprojects_img.geojson\", \"r\") as file:\n",
    "    cap_proj = json.load(file)\n",
    "\n",
    "print(cap_proj.keys()) #print the keys to the dictonary in the geojson file \n",
    "print(\"~\"*88) # prints - 88 times"
   ]
  },
  {
   "cell_type": "code",
   "execution_count": 5,
   "metadata": {},
   "outputs": [],
   "source": [
    "features = cap_proj[\"features\"]"
   ]
  },
  {
   "cell_type": "code",
   "execution_count": 11,
   "metadata": {},
   "outputs": [
    {
     "name": "stdout",
     "output_type": "stream",
     "text": [
      "{'geometry': {'coordinates': [-80.02443937613018,\n",
      "                              40.45848456403248,\n",
      "                              1850147310.0],\n",
      "              'type': 'Point'},\n",
      " 'id': 1850147310,\n",
      " 'properties': {'area': 'Engineering and Construction',\n",
      "                'asset_id': 'Columbus Avenue Bridge',\n",
      "                'asset_type': 'Bridge',\n",
      "                'budgeted_amount': 100000.0,\n",
      "                'fiscal_year': '2017',\n",
      "                'id': 1850147310,\n",
      "                'name': 'BRIDGE REPAIRS',\n",
      "                'start_date': '2017-02-08',\n",
      "                'status': 'Planned',\n",
      "                'task_description': 'Columbus Avenue Bridge Handicapped Ramp '\n",
      "                                    'and Intersection Improvements'},\n",
      " 'type': 'Feature'}\n",
      "~~~~~~~~~~~~~~~~~~~~~~~~~~~~~~~~~~~~~~~~~~~~~~~~~~~~~~~~~~~~~~~~~~~~~~~~~~~~~~~~~~~~~~~~\n",
      "Budget Total: $424,544,782.23\n",
      "Average Budget: $425,818.25\n"
     ]
    },
    {
     "data": {
      "text/plain": [
       "<function TextIOWrapper.close()>"
      ]
     },
     "execution_count": 11,
     "metadata": {},
     "output_type": "execute_result"
    }
   ],
   "source": [
    "features = cap_proj[\"features\"] #feature variable = features dictonary\n",
    "\n",
    "total_money = 0\n",
    "no_budget = 0\n",
    "\n",
    "for unit in features:\n",
    "    #drilling down in the features dictionary the budgeted amount\n",
    "    budget_amount = unit['properties']['budgeted_amount']\n",
    "    try:\n",
    "        total_money += budget_amount\n",
    "    except TypeError:\n",
    "        no_budget += 1    #counting the entries without a budget amount\n",
    "\n",
    "i = 0\n",
    "while i <1:\n",
    "    pprint(features[i])\n",
    "    print(\"~\"*88) # prints - 88 times\n",
    "    myfeatures = str(features[i])\n",
    "    myfile = open(\"CapitalProj.txt\",\"w\")\n",
    "    myfile.write(myfeatures + \"\\n\")\n",
    "    i += 1\n",
    "\n",
    "#convert to a currency\n",
    "average = \"${:,.2f}\".format((total_money / len(features)-no_budget))\n",
    "total_money = \"${:,.2f}\".format(total_money)\n",
    "\n",
    "#Write data to file\n",
    "myfile.write(average + \"\\n\")\n",
    "myfile.write(total_money + \"\\n\")\n",
    "\n",
    "print(\"Budget Total:\", total_money)\n",
    "print(\"Average Budget:\", average)\n",
    "\n",
    "myfile.close\n"
   ]
  },
  {
   "cell_type": "code",
   "execution_count": null,
   "metadata": {},
   "outputs": [],
   "source": []
  }
 ],
 "metadata": {
  "kernelspec": {
   "display_name": "Python 3",
   "language": "python",
   "name": "python3"
  },
  "language_info": {
   "codemirror_mode": {
    "name": "ipython",
    "version": 3
   },
   "file_extension": ".py",
   "mimetype": "text/x-python",
   "name": "python",
   "nbconvert_exporter": "python",
   "pygments_lexer": "ipython3",
   "version": "3.7.4"
  }
 },
 "nbformat": 4,
 "nbformat_minor": 2
}
